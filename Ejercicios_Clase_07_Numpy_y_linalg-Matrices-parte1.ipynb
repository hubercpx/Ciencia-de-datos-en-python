{
 "cells": [
  {
   "cell_type": "markdown",
   "id": "b29b1515",
   "metadata": {},
   "source": [
    "### Constructores de matrices\n",
    "\n",
    "NumPy provee diversas funciones para crear matrices , algunas de las cuales ya vimos cuando estudiamos vectores , la diferencia consiste en que ahora ya no usamos un número para indicar el tamaño de un vector, si no una **tupla** de 2 elementos: (m,n) . Algunas de las funciones  que aplican tanto a vectores como a matrices son:\n",
    "\n",
    "* np.array: crear una matriz a partir de una lista de listas: cada fila es una sublista\n",
    "* np.zeros: crear una matriz de ceros\n",
    "* np.ones: crear una matriz de unos\n",
    "* np.empty: crear una matriz sin importarnos sus valores\n",
    "* np.full: crear una matriz  con cierto valor\n",
    "* np.copy: crea un clon o copia de cierta matriz\n",
    "\n",
    "Algunas funciones específicas de matrices son:\n",
    "\n",
    "* np.matrix: resultado casi idéntico a la función más general np.array, pero posee algunas propiedades adicionales específicas de listas, por ejemplo notación sencilla para inversas de matrices.\n",
    "* np.eye: crear una matriz con 1s en su diagonal principal y ceros en el resto\n",
    "* np.identity : crear una matriz identidad\n",
    "\n",
    "Algunas funciones que solo aplican a vectores y no a matrices son:\n",
    "\n",
    "* np.arange\n",
    "* np.linspace\n",
    "\n",
    "Existen otras pero estas son posiblemente las mas comunes. Puedes consultar las otras disponibles en: https://docs.scipy.org/doc/numpy/reference/routines.array-creation.html\n",
    "\n",
    "**Ejercicio**: Investigar y ejemplificar diferencias entre np.array y np.matrix"
   ]
  },
  {
   "cell_type": "code",
   "execution_count": 4,
   "id": "81561c1d",
   "metadata": {},
   "outputs": [],
   "source": [
    "import numpy as np\n",
    "import matplotlib.pyplot as plt"
   ]
  },
  {
   "cell_type": "code",
   "execution_count": 5,
   "id": "d2d0c516",
   "metadata": {},
   "outputs": [
    {
     "name": "stdout",
     "output_type": "stream",
     "text": [
      "Rango del tensor: 2\n",
      "Forma o tamaño: (3, 3)\n",
      "Matriz de ceros de forma: (3, 3)\n",
      "Filas: 3\n",
      "Columnas: 3\n",
      "Matriz:\n",
      "[[-1  2  3]\n",
      " [-2  0  1]\n",
      " [ 0 -1 -1]]\n",
      "Matriz Inversa:\n",
      "[[ 1. -1.  2.]\n",
      " [-2.  1. -5.]\n",
      " [ 2. -1.  4.]]\n"
     ]
    }
   ],
   "source": [
    "matriz_1 = np.matrix([[-1,2,3],\n",
    "                      [-2,0,1],\n",
    "                      [0,-1,-1]])\n",
    "\n",
    "tamaño_matriz = matriz_1.shape\n",
    "\n",
    "print(\"Rango del tensor:\",matriz_1.ndim) #rango del tensor, para matriz es 2\n",
    "print(\"Forma o tamaño:\",tamaño_matriz) # tupla representando el tamaño de la matríz\n",
    "\n",
    "print(\"Matriz de ceros de forma:\",tamaño_matriz)\n",
    "print(\"Filas:\",tamaño_matriz[0])\n",
    "print(\"Columnas:\",tamaño_matriz[1])\n",
    "print(\"Matriz:\")\n",
    "print(matriz_1)\n",
    "print(\"Matriz Inversa:\")\n",
    "print(matriz_1.I)"
   ]
  },
  {
   "cell_type": "code",
   "execution_count": 6,
   "id": "d8482473",
   "metadata": {},
   "outputs": [
    {
     "name": "stdout",
     "output_type": "stream",
     "text": [
      "Rango del tensor: 2\n",
      "Forma o tamaño: (2, 3)\n",
      "Matriz de ceros de forma: (2, 3)\n",
      "Filas: 2\n",
      "Columnas: 3\n",
      "Matriz:\n",
      "[[0.00000000e+000 8.51769173e-321 0.00000000e+000]\n",
      " [1.19461626e-311 0.00000000e+000 3.25060610e-319]]\n"
     ]
    }
   ],
   "source": [
    "matriz_vacia = np.empty((2,3))\n",
    "\n",
    "tamaño_matriz = matriz_vacia.shape\n",
    "\n",
    "print(\"Rango del tensor:\",matriz_vacia.ndim) #rango del tensor, para matriz es 2\n",
    "print(\"Forma o tamaño:\",tamaño_matriz) # tupla representando el tamaño de la matríz\n",
    "\n",
    "print(\"Matriz de ceros de forma:\",tamaño_matriz)\n",
    "print(\"Filas:\",tamaño_matriz[0])\n",
    "print(\"Columnas:\",tamaño_matriz[1])\n",
    "print(\"Matriz:\")\n",
    "print(matriz_vacia)"
   ]
  },
  {
   "cell_type": "code",
   "execution_count": 7,
   "id": "8a2669f8",
   "metadata": {},
   "outputs": [
    {
     "name": "stdout",
     "output_type": "stream",
     "text": [
      "Rango del tensor: 2\n",
      "Forma o tamaño: (4, 5)\n",
      "Matriz de ceros de forma: (4, 5)\n",
      "Filas: 4\n",
      "Columnas: 5\n",
      "Matriz:\n",
      "[[8 8 8 8 8]\n",
      " [8 8 8 8 8]\n",
      " [8 8 8 8 8]\n",
      " [8 8 8 8 8]]\n"
     ]
    }
   ],
   "source": [
    "matriz_ochos = np.full((4,5),8)\n",
    "\n",
    "tamaño_matriz = matriz_ochos.shape\n",
    "\n",
    "print(\"Rango del tensor:\",matriz_ochos.ndim) #rango del tensor, para matriz es 2\n",
    "print(\"Forma o tamaño:\",tamaño_matriz) # tupla representando el tamaño de la matríz\n",
    "\n",
    "print(\"Matriz de ceros de forma:\",tamaño_matriz)\n",
    "print(\"Filas:\",tamaño_matriz[0])\n",
    "print(\"Columnas:\",tamaño_matriz[1])\n",
    "print(\"Matriz:\")\n",
    "print(matriz_ochos)"
   ]
  },
  {
   "cell_type": "markdown",
   "id": "ed05ccd3",
   "metadata": {},
   "source": [
    "** DIFERENCIAS np.array y np.matrix**\n",
    "\n",
    "<li>Los elementos de un np.array son multidimensionales y los objetos de una np.matrix son bidimensionales</li>\n",
    "<li>Se comportan diferente con el operador **  porque en un array se convieren en valores cuadrados encambio en una matriz se multiplican los valores</li>\n",
    "<li>La matriz es un subelemento de la clase array</li>\n",
    "<li>Se usa mas a menudo la np.array</li>\n",
    "\n",
    "\n",
    "Ref: https://towardsdatascience.com/6-key-differences-between-np-ndarray-and-np-matrix-objects-e3f5234ae327"
   ]
  }
 ],
 "metadata": {
  "kernelspec": {
   "display_name": "Python 3",
   "language": "python",
   "name": "python3"
  },
  "language_info": {
   "codemirror_mode": {
    "name": "ipython",
    "version": 3
   },
   "file_extension": ".py",
   "mimetype": "text/x-python",
   "name": "python",
   "nbconvert_exporter": "python",
   "pygments_lexer": "ipython3",
   "version": "3.8.8"
  }
 },
 "nbformat": 4,
 "nbformat_minor": 5
}
