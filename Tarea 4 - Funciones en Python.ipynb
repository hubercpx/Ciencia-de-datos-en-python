{
 "cells": [
  {
   "cell_type": "markdown",
   "id": "ba3b627a",
   "metadata": {},
   "source": [
    "Huber Torres - Postgrado en análisis y predicción de datos\n",
    "\n",
    "# Tarea 4 - Funciones en Python"
   ]
  },
  {
   "cell_type": "markdown",
   "id": "77f35476",
   "metadata": {},
   "source": [
    "## 1.- Funciones en Python\n",
    "Las funciones o métodos son tareas que se pueden ejecutar con el objetivo de poder reutilizar código y no ejecutar una tarea varias veces, con las funciones se pueden hacer sistemas modulares en los que se pueden llamar diferentes funciones para diferentes tareas sin tener que repetir código.\n",
    "\n",
    "Un ejemplo de esto es el factorial."
   ]
  },
  {
   "cell_type": "code",
   "execution_count": 7,
   "id": "783d3a31",
   "metadata": {},
   "outputs": [
    {
     "name": "stdout",
     "output_type": "stream",
     "text": [
      "5\n"
     ]
    },
    {
     "data": {
      "text/plain": [
       "120"
      ]
     },
     "execution_count": 7,
     "metadata": {},
     "output_type": "execute_result"
    }
   ],
   "source": [
    "def factorial(n):\n",
    "    int(n)\n",
    "    factor = 1\n",
    "    for i in range(1, n + 1):\n",
    "        factor *= i\n",
    "    return factor\n",
    "\n",
    "n = input()\n",
    "factorial(int(n))"
   ]
  },
  {
   "cell_type": "markdown",
   "id": "02f1ce24",
   "metadata": {},
   "source": [
    "## 2.- Parametros Posicionales\n",
    "Los parametros posicionales se refieren a como podemos ingresar los parametros en una función, ya que la posición de definición de los parametros de una funcion tiene que ser la misma posición de los parámetros al invocar las funciones.\n",
    "\n",
    "Por ejemplo: Tenemos en la base de datos de la SAT el **Nombre** y el **Apellido** de una persona almacenados en atributos diferentes de una tabla, para lo cual, creamos una función que pueda unir los dos para mostrar el nombre completo"
   ]
  },
  {
   "cell_type": "code",
   "execution_count": 14,
   "id": "806a9ede",
   "metadata": {},
   "outputs": [
    {
     "name": "stdout",
     "output_type": "stream",
     "text": [
      "Nombre: \n",
      "Nombre: Huber\n",
      "Apellido: \n",
      "Apellido: Torres\n"
     ]
    },
    {
     "data": {
      "text/plain": [
       "'Huber Torres'"
      ]
     },
     "execution_count": 14,
     "metadata": {},
     "output_type": "execute_result"
    }
   ],
   "source": [
    "def nombre_completo(nombre, apellido):\n",
    "    union = nombre + ' ' + apellido\n",
    "    return union\n",
    "\n",
    "print('Nombre: ')\n",
    "nombre = input('Nombre: ')\n",
    "print('Apellido: ')\n",
    "apellido = input('Apellido: ')\n",
    "\n",
    "nombre_completo(nombre, apellido)"
   ]
  },
  {
   "cell_type": "markdown",
   "id": "e0d8612e",
   "metadata": {},
   "source": [
    "## 3.- Parametros Nombrados\n",
    "Las funciones con parametros nombrados tiene la característica que nos permite llamar a una función sin importar el orden en el que ingresemos los parametros, siempre y cuando le especifiquemos el nombre de dicho parametro.\n",
    "\n",
    "Por ejemplo: Queremos calcular los impuestos de IVA e ISR a pagar cada mes si somos un **Contribuyente Normal** y vamos a demostrar como podemos llamar a esta función en diferente orden."
   ]
  },
  {
   "cell_type": "code",
   "execution_count": 17,
   "id": "8eca2f71",
   "metadata": {},
   "outputs": [
    {
     "name": "stdout",
     "output_type": "stream",
     "text": [
      "El empleado es: Huber Torres\n",
      "El salario es: 10000\n",
      "El impuesto de IVA a pagar es: 1200.0\n",
      "El impuesto de ISR a pagar es: 5000.0\n",
      "---------------------\n",
      "El empleado es: Huber Torres\n",
      "El salario es: 10000\n",
      "El impuesto de IVA a pagar es: 1200.0\n",
      "El impuesto de ISR a pagar es: 500.0\n"
     ]
    }
   ],
   "source": [
    "def calculo_impuesto(nombre, salario, iva, isr):\n",
    "    print('El empleado es: ' + str(nombre))\n",
    "    print('El salario es: ' + str(salario))\n",
    "    print('El impuesto de IVA a pagar es: ' + str(salario*iva))\n",
    "    print('El impuesto de ISR a pagar es: ' + str(salario*isr))\n",
    "    \n",
    "calculo_impuesto('Huber Torres', 10000, 0.12, 0.5)\n",
    "print('---------------------')\n",
    "calculo_impuesto(iva=0.12, salario=10000, nombre='Huber Torres' , isr=0.05)"
   ]
  },
  {
   "cell_type": "markdown",
   "id": "aced0a6e",
   "metadata": {},
   "source": [
    "## 4.- Retorno de Multiples Valores\n",
    "Python nos ofrece una forma de como poder retornar mas de un valor de una función sólo con agregar una coma, es algo que muchos otros lenguajes no pueden hacer, además de poder devolver dos diferentes tipos de datos. Si no se especifican los valores de salida, Python los agrega como una tupla.\n",
    "\n",
    "Ejemplo:"
   ]
  },
  {
   "cell_type": "code",
   "execution_count": 19,
   "id": "73a5866a",
   "metadata": {},
   "outputs": [
    {
     "name": "stdout",
     "output_type": "stream",
     "text": [
      "(6, 7) <class 'tuple'>\n"
     ]
    }
   ],
   "source": [
    "def return_multi(a):\n",
    "    b = a+1\n",
    "    c = a+2\n",
    "    return b, c\n",
    "\n",
    "x = return_multi(5)\n",
    "print(x,type(x))"
   ]
  },
  {
   "cell_type": "markdown",
   "id": "54a799a9",
   "metadata": {},
   "source": [
    "## 5.- Funciones Anónimas o Lambda\n",
    "Las funciones lambda son una forma de declarar una función de forma pequeña y corta con el obtivo de hacer pequeñas operaciones o agilizar el código.\n",
    "\n",
    "Ejemplo: "
   ]
  },
  {
   "cell_type": "code",
   "execution_count": 20,
   "id": "7c93d282",
   "metadata": {},
   "outputs": [
    {
     "name": "stdout",
     "output_type": "stream",
     "text": [
      "9\n"
     ]
    }
   ],
   "source": [
    "# Función Lambda para calcular el cuadrado de un número\n",
    "square = lambda x: x ** 2\n",
    "print(square(3))"
   ]
  },
  {
   "cell_type": "markdown",
   "id": "7cee52d3",
   "metadata": {},
   "source": [
    "## 6.- funciones como objetos y como parametros de otras funciones\n",
    "Python nos permite pasar como parametros de una función otra función, esto hace que las operaciones en python sean bastante módulares y nos ayuda a reutilizar código.\n",
    "\n",
    "Por ejemplo: cuando se quieren encontrar los número pares entre un rango de números:"
   ]
  },
  {
   "cell_type": "code",
   "execution_count": 30,
   "id": "848a8504",
   "metadata": {},
   "outputs": [
    {
     "name": "stdout",
     "output_type": "stream",
     "text": [
      "2\n",
      "4\n",
      "6\n",
      "8\n",
      "10\n"
     ]
    },
    {
     "data": {
      "text/plain": [
       "[2, 4, 6, 8, 10]"
      ]
     },
     "execution_count": 30,
     "metadata": {},
     "output_type": "execute_result"
    }
   ],
   "source": [
    "num_pares = []\n",
    "def pares(min, max):\n",
    "    for i in range(min, max + 1):\n",
    "        if (i%2==0):\n",
    "            print(i)\n",
    "            num_pares.append(i)\n",
    "        i+=1\n",
    "    return num_pares\n",
    "# vamos a trasladar la funcion para contar cuantos pares hay   \n",
    "\n",
    "def cont_pares(pares):\n",
    "    print(len(pares))\n",
    "pares(1,10)\n",
    "num_pares\n",
    "cont_pares()"
   ]
  }
 ],
 "metadata": {
  "kernelspec": {
   "display_name": "Python 3",
   "language": "python",
   "name": "python3"
  },
  "language_info": {
   "codemirror_mode": {
    "name": "ipython",
    "version": 3
   },
   "file_extension": ".py",
   "mimetype": "text/x-python",
   "name": "python",
   "nbconvert_exporter": "python",
   "pygments_lexer": "ipython3",
   "version": "3.8.8"
  }
 },
 "nbformat": 4,
 "nbformat_minor": 5
}
