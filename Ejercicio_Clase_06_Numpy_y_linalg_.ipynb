{
  "nbformat": 4,
  "nbformat_minor": 0,
  "metadata": {
    "colab": {
      "name": "Ejercicio-Clase_06_Numpy y linalg_.ipynb",
      "provenance": [],
      "collapsed_sections": []
    },
    "kernelspec": {
      "name": "python3",
      "display_name": "Python 3"
    },
    "language_info": {
      "name": "python"
    }
  },
  "cells": [
    {
      "cell_type": "code",
      "execution_count": 2,
      "metadata": {
        "id": "66Kfg0VBthrC"
      },
      "outputs": [],
      "source": [
        "import numpy as np\n",
        "import matplotlib.pyplot as plt"
      ]
    },
    {
      "cell_type": "code",
      "source": [
        "# las siguientes 3 lineas generan un conjunto de datos que se comportan segun una onda senoidal pero tienen\n",
        "# ruido por lo cual vamos a suavizar usando promedio de 3 puntos\n",
        "# en este ejercicio los generamos manualmente pero pensemos que son datos que pudieron ser generados con algún\n",
        "# instrumento como un sensor, o bien estar almacenados en una base de datos\n",
        "sample_points = 10000\n",
        "inicio_intervalo = 0\n",
        "ruido = 0.5*np.random.randn(sample_points) #el ruido comunmente se debe a aleatoriedad o captura no exacta de info.\n",
        "x = np.linspace(inicio_intervalo,5*np.pi,sample_points) \n",
        "y = np.sin(x) + ruido\n",
        "\n",
        "#ys es \"y suavizado\", inicialmente es una copia de y\n",
        "ys =  y.copy()\n",
        "\n",
        "for n in range(1,len(y)-1): #5\n",
        "    ys[n] = (y[n-1] + y[n] + y[n+1])/3\n",
        "    \n",
        "print(y)\n",
        "print(ys)"
      ],
      "metadata": {
        "colab": {
          "base_uri": "https://localhost:8080/"
        },
        "id": "-DUYTox7trnK",
        "outputId": "5fb478fc-4821-43bc-983f-c0be0edf8d41"
      },
      "execution_count": 3,
      "outputs": [
        {
          "output_type": "stream",
          "name": "stdout",
          "text": [
            "[-0.79190287  0.53209466  0.29694714 ... -0.44557097 -0.4192216\n",
            " -0.18212796]\n",
            "[-0.79190287  0.01237964  0.29825678 ...  0.01934872 -0.34897351\n",
            " -0.18212796]\n"
          ]
        }
      ]
    },
    {
      "cell_type": "code",
      "source": [
        "plt.plot(x,y)\n",
        "plt.plot(x,ys)\n",
        "plt.xlim(inicio_intervalo,5*np.pi + 0.5)\n",
        "plt.show()"
      ],
      "metadata": {
        "colab": {
          "base_uri": "https://localhost:8080/",
          "height": 264
        },
        "id": "Vn56YJIkt5Ml",
        "outputId": "48a38604-8e5f-406e-bebf-48cd75f9410a"
      },
      "execution_count": 4,
      "outputs": [
        {
          "output_type": "display_data",
          "data": {
            "text/plain": [
              "<Figure size 432x288 with 1 Axes>"
            ],
            "image/png": "[encoded data removed]"
          },
          "metadata": {
            "needs_background": "light"
          }
        }
      ]
    },
    {
      "cell_type": "markdown",
      "source": [
        "## SIN CICLOS"
      ],
      "metadata": {
        "id": "SXB-FHxst9vG"
      }
    },
    {
      "cell_type": "code",
      "source": [
        "## SIN CICLOS\n",
        "sample_points = 10000\n",
        "inicio_intervalo = 0\n",
        "ruido = 0.5*np.random.randn(sample_points) #el ruido comunmente se debe a aleatoriedad o captura no exacta de info.\n",
        "x = np.linspace(inicio_intervalo,5*np.pi,sample_points) \n",
        "y = np.sin(x) + ruido\n",
        "\n",
        "\n",
        "def smooth(y, box_pts):\n",
        "    box = np.ones(box_pts)/box_pts\n",
        "    y_smooth = np.convolve(y, box, mode='same')\n",
        "    return y_smooth\n",
        "    \n",
        "print(y)\n",
        "print(ys)\n",
        "print(smooth(y, 3))"
      ],
      "metadata": {
        "colab": {
          "base_uri": "https://localhost:8080/"
        },
        "id": "mF9YE1-Nt6Py",
        "outputId": "22684fa0-637b-4af7-f0cd-baa98d12ab52"
      },
      "execution_count": 26,
      "outputs": [
        {
          "output_type": "stream",
          "name": "stdout",
          "text": [
            "[ 0.26020867  0.41259601  0.64546834 ... -0.73963252 -0.09124287\n",
            "  0.65837077]\n",
            "[-0.69451981 -0.30761961 -0.0471967  ...  0.00551849  0.34652109\n",
            "  0.63751266]\n",
            "[ 0.22426822  0.43942434  0.50745331 ...  0.07680445 -0.05750154\n",
            "  0.18904263]\n"
          ]
        }
      ]
    },
    {
      "cell_type": "markdown",
      "source": [
        "## Proyección vectorial\n",
        "La proyección vectorial es una proyección entre dos vectores, un vector a y un vector b, por lo que, si trazamos una recta perpedicular perpendicular al vector b que pase por el punto final del vector a, entonces encontramos el vector de proyección de a sobre el vector v, representado de la siguiente forma:\n",
        "$$Proy \\; b^\\vec{a}$$\n",
        "\n",
        "Una de sus aplicaciones puede ser la de hacer proyecciones de ventas según la producción de un producto con alta demanda.\n"
      ],
      "metadata": {
        "id": "WCiyQvioyF_p"
      }
    },
    {
      "cell_type": "code",
      "source": [
        "def proy_vectorial(a,b):\n",
        "  bcu = np.sqrt(sum(b**2))     \n",
        "    \n",
        "  proy= (np.dot(a, b)/bcu**2)*b \n",
        "    \n",
        "  print(\"proyeccion de a sobre b: \", proy) \n",
        "\n",
        "a = np.array([2, 7])   \n",
        "b = np.array([1, 2])  \n",
        "\n",
        "proy_vectorial(a,b)"
      ],
      "metadata": {
        "colab": {
          "base_uri": "https://localhost:8080/"
        },
        "id": "6tC2f9PY3ey8",
        "outputId": "17168676-9120-4783-c735-a3e2c4dbe774"
      },
      "execution_count": 28,
      "outputs": [
        {
          "output_type": "stream",
          "name": "stdout",
          "text": [
            "proyeccion de a sobre b:  [3.2 6.4]\n"
          ]
        }
      ]
    },
    {
      "cell_type": "markdown",
      "source": [
        "## Producto cruz\n",
        "\n",
        "El producto cruz es una operación en la que se tienen dos vectores y se requiere obtener un escalar que es un angulo entre estos dos vectores para lo cual se multiplican los primeros dos vectores y el resultado obtiene una recta perpendicular entre los dos vectores. Se representa de la siguiente forma:\n",
        "$$a \\cdot b$$\n",
        "\n",
        "\n",
        "Una de sus aplicaciones podría ser la de resolver un sistema de ecuaciones lineales con matrices como variables."
      ],
      "metadata": {
        "id": "a8tmHR62yTSM"
      }
    },
    {
      "cell_type": "markdown",
      "source": [
        ""
      ],
      "metadata": {
        "id": "m9ePlWtNyZHX"
      }
    },
    {
      "cell_type": "code",
      "source": [
        "def producto_cruz(a, b):\n",
        "  producto = np.cross(a,b)\n",
        "  print(\"producto cruz de a sobre b: \", producto) \n",
        "\n",
        "producto_cruz(a,b)"
      ],
      "metadata": {
        "colab": {
          "base_uri": "https://localhost:8080/"
        },
        "id": "MiC6ctjRwcQ1",
        "outputId": "83e4cc51-c0b2-4347-a3a9-c186c7ea195b"
      },
      "execution_count": 29,
      "outputs": [
        {
          "output_type": "stream",
          "name": "stdout",
          "text": [
            "producto cruz de a sobre b:  -3\n"
          ]
        }
      ]
    }
  ]
}