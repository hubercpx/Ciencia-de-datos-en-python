{
 "cells": [
  {
   "cell_type": "markdown",
   "id": "cc9ca342",
   "metadata": {},
   "source": [
    "<h1>Sistemas de Control de Versiones (VCS)</h1>\n",
    "<p>Los sistemas de control de versiones son herramientas que permiten la fácil colaboración entre integrantes de un equipo de software, además también se pueden utilizar para trabajar en local y con una sola persona ya que llevan el control de los cambios que se realizan en el código de un software, los sistemas de control de versiones tienen varias características y algunas de ellas son las siguientes:</p>\n",
    "<li>Permiten el uso de branches o ramas</li>\n",
    "<li>Permiten crear snapshots de una parte del código</li>\n",
    "<li>Permiten saber quién modificó cierta parte del código y a qué hora</li>\n",
    "<li>Si se comete un error permiten volver a regresar un punto guardado en el que no hay errores</li>\n",
    "\n",
    "<p>En sí un VCS es un motor guardado de software en diferentes instancias del desarrollo ya que podemos crear diferentes ramas para diferentes funcionalidades o etapas del desarrollo de un software:</p>\n",
    "\n",
    "<h3>Snapshots</h3>\n",
    "<p>Los snapshots son los commits en git y éstas hacen referencia a confirmaciones de cambios que se realizan en un repositorio, por lo que en cada snapshot nosotros podemos tener diferentes funcionalidades que posteriormente podríamos unir para crear un módulo.  Éstos commits se guardan con un código unico en HASH para poder identificarlos y poder manipularlos si por ejemplo nosotros quisieramos descartar los cambios realizados en este commit.</p>\n",
    "\n",
    "<h3>Referencias</h3>\n",
    "<p>Ya que para el ser humano es complicado recordar una serie de caracteres en HASH, git soluciona ésto con un sistema de referencias que no es más que un puntero relacionado con un commit lo que hace que en 40 caracteres podamos definir un proceso o una funcionalidad que estamos realizando y que sea más entendible o amigable para los demás integrandes de un equipo de desarrollo.</p>\n",
    "\n",
    "<h3>Repositorios</h3>\n",
    "<p>Un repositorio es un almacenamiento virtual en donde se pueden almacenar proyectos con diferentes ramas y diferentes commits que se realizan en ellos.</p>\n",
    "\n",
    "<h3>Interfaz de linea de comandos</h3>\n",
    "<p>Aunque hay interfaces gráficas que emulan el funcionamiento de la línea de comandos en git, en ocasiones no nos proveen de muchas opciones como hacerlo directamente desde línea de comandos, entonces la linea de comandos en git nos permite manipular los ficheros, directorios, commits, ramas y diferentes situaciones para manejar nuestro repositorio.</p>\n",
    "<p>Algunos ejemplos de comandos y sus usos son los siguientes:</p>\n",
    "<li>Clonar el repositorio de los departamentos de Guatemala:</li>\n",
    "<code>git clone https://gist.github.com/sebdeveloper6952/f664cdf7e19b9afd2b600030f0437b78</code>"
   ]
  },
  {
   "cell_type": "code",
   "execution_count": null,
   "id": "57de70fc",
   "metadata": {},
   "outputs": [],
   "source": [
    "%%bash \n",
    "git clone https://gist.github.com/sebdeveloper6952/f664cdf7e19b9afd2b600030f0437b78"
   ]
  },
  {
   "cell_type": "code",
   "execution_count": 1,
   "id": "b0b8cbc6",
   "metadata": {},
   "outputs": [
    {
     "data": {
      "text/html": [
       "<code>git clone https://gist.github.com/sebdeveloper6952/f664cdf7e19b9afd2b600030f0437b78</code>\n"
      ],
      "text/plain": [
       "<IPython.core.display.HTML object>"
      ]
     },
     "metadata": {},
     "output_type": "display_data"
    }
   ],
   "source": [
    "%%HTML \n",
    "<code>git clone https://gist.github.com/sebdeveloper6952/f664cdf7e19b9afd2b600030f0437b78</code>"
   ]
  },
  {
   "cell_type": "markdown",
   "id": "b85fda46",
   "metadata": {},
   "source": [
    "<li>Crear una nueva rama:</li>\n",
    "<code>git branch nombre_rama</code>"
   ]
  },
  {
   "cell_type": "code",
   "execution_count": null,
   "id": "8ad6555d",
   "metadata": {},
   "outputs": [],
   "source": [
    "%%bash \n",
    "git clone https://gist.github.com/sebdeveloper6952/f664cdf7e19b9afd2b600030f0437b78"
   ]
  },
  {
   "cell_type": "code",
   "execution_count": 2,
   "id": "32a0c9f7",
   "metadata": {},
   "outputs": [
    {
     "data": {
      "text/html": [
       "<code>git clone https://gist.github.com/sebdeveloper6952/f664cdf7e19b9afd2b600030f0437b78</code>\n"
      ],
      "text/plain": [
       "<IPython.core.display.HTML object>"
      ]
     },
     "metadata": {},
     "output_type": "display_data"
    }
   ],
   "source": [
    "%%HTML \n",
    "<code>git clone https://gist.github.com/sebdeveloper6952/f664cdf7e19b9afd2b600030f0437b78</code>"
   ]
  },
  {
   "cell_type": "markdown",
   "id": "46ce3cdb",
   "metadata": {},
   "source": [
    "<h2>Conclusión</h2>\n",
    "<p>En conclusión, una herramienta de control de versiones es muy importante en el desarrollo de diferentes softwares ya que facilita el trabajo colaborativo, remoto y realiza una gran tarea en el control de integridad de información ya que se puede saber quien creó algún módulo, a que hora se creó y si algo no funciona debido a algún cambio, se puede regresar a una versión en donde funcionaba y empezar de nuevo con una snapshot limpia y lista para modificar. </p>"
   ]
  }
 ],
 "metadata": {
  "kernelspec": {
   "display_name": "Python 3 (ipykernel)",
   "language": "python",
   "name": "python3"
  },
  "language_info": {
   "codemirror_mode": {
    "name": "ipython",
    "version": 3
   },
   "file_extension": ".py",
   "mimetype": "text/x-python",
   "name": "python",
   "nbconvert_exporter": "python",
   "pygments_lexer": "ipython3",
   "version": "3.7.11"
  }
 },
 "nbformat": 4,
 "nbformat_minor": 5
}
