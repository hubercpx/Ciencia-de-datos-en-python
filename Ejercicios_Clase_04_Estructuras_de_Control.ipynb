{
 "cells": [
  {
   "cell_type": "markdown",
   "id": "5ce9cf79",
   "metadata": {},
   "source": [
    "**Ejemplo**\n",
    "\n",
    "Otro ejemplo es un programa sencillo que valida el rango de edad de un usuario para determinar que tipo de promocion ofrecerle, basado en :\n",
    "* de 0 a 15 años: promocion infantil\n",
    "* de 16 a 40 años: promocion intermedia\n",
    "* de 40 años en adelante: promocion avanzada\n",
    "\n",
    "Si la edad es negativa, mostrar una alerta \n",
    "\n",
    "**Nota** Este programa tiene intencionalmente un error de programación(bug) , para ciertos valores de \"edad\" el programa no funciona correctamente aún cuando lo hace bien para la mayoría de casos, como ejercicio identifiquemos el bug y propongamos soluciones."
   ]
  },
  {
   "cell_type": "code",
   "execution_count": 1,
   "id": "9dd57a2e",
   "metadata": {},
   "outputs": [
    {
     "name": "stdout",
     "output_type": "stream",
     "text": [
      "no definido\n"
     ]
    }
   ],
   "source": [
    "edad = 40.5\n",
    "\n",
    "if edad >= 0.0 and edad <= 15.99:\n",
    "    print(\"Promocion infantil\")\n",
    "elif edad >= 16 and edad <= 40:\n",
    "    print(\"Promocion intermedia\")\n",
    "elif edad >= 41:\n",
    "    print(\"Promocion avanzada\")\n",
    "elif edad < 0:\n",
    "    print(\"Alerta: edad no valida\")\n",
    "else:\n",
    "    print(\"no definido\")"
   ]
  },
  {
   "cell_type": "code",
   "execution_count": 2,
   "id": "2e46c04b",
   "metadata": {},
   "outputs": [
    {
     "name": "stdout",
     "output_type": "stream",
     "text": [
      "no definido\n"
     ]
    }
   ],
   "source": [
    "edad = 40.5\n",
    "\n",
    "if edad >= 0.0 and edad <= 15.99:\n",
    "    print(\"Promocion infantil\")\n",
    "elif edad >= 16 and edad <= 40:\n",
    "    print(\"Promocion intermedia\")\n",
    "elif edad >= 41:\n",
    "    print(\"Promocion avanzada\")\n",
    "elif edad < 0:\n",
    "    print(\"Alerta: edad no valida\")\n",
    "else:\n",
    "    print(\"no definido\")"
   ]
  }
 ],
 "metadata": {
  "kernelspec": {
   "display_name": "Python 3",
   "language": "python",
   "name": "python3"
  },
  "language_info": {
   "codemirror_mode": {
    "name": "ipython",
    "version": 3
   },
   "file_extension": ".py",
   "mimetype": "text/x-python",
   "name": "python",
   "nbconvert_exporter": "python",
   "pygments_lexer": "ipython3",
   "version": "3.8.8"
  }
 },
 "nbformat": 4,
 "nbformat_minor": 5
}
