{
 "cells": [
  {
   "cell_type": "markdown",
   "id": "4a0ce901",
   "metadata": {},
   "source": [
    "**ejercicio** experimenta con diferentes numeros de iteraciones de la simulación y analiza el comportamiento del sistema en relación a esto, anota tu conclusión en el notebook en una nueva celda Markdown abajo de la celda de la simulación."
   ]
  },
  {
   "cell_type": "code",
   "execution_count": 5,
   "id": "791235a3",
   "metadata": {},
   "outputs": [],
   "source": [
    "import random\n",
    "\n",
    "SIMULACIONES = 1055000\n",
    "resultados_simulacion = []\n",
    "\n",
    "for iteracion in range(1,SIMULACIONES +2,1):\n",
    "    x_simulado = random.gauss(5,1) # sampleo/muestreo de la variable x que se distribuye de forma normal con media 5 y desviacion 2\n",
    "    error = random.gauss(0,0.1) \n",
    "    \n",
    "    # aplicar el modelo para obtener un valor simulado de y\n",
    "    y = 0.2*x_simulado + 0.4  + error #aplicar el modelo a la variable \"simulada\"\n",
    "   \n",
    "    resultados_simulacion.append(y) #guardar los resultados en una lista para analisis posterior\n",
    "    \n"
   ]
  },
  {
   "cell_type": "code",
   "execution_count": 6,
   "id": "c42160fd",
   "metadata": {},
   "outputs": [
    {
     "name": "stdout",
     "output_type": "stream",
     "text": [
      "El valor esperado o esperanza de la variable Y es E(Y) = 1.3997826347015543\n",
      "El valor minimo de y es  0.35950700228340193\n",
      "El valor maximo de y es  2.4337670052221907\n"
     ]
    },
    {
     "data": {
      "image/png": "[encoded data removed]",
      "text/plain": [
       "<Figure size 432x288 with 1 Axes>"
      ]
     },
     "metadata": {
      "needs_background": "light"
     },
     "output_type": "display_data"
    }
   ],
   "source": [
    "import matplotlib.pyplot as plt\n",
    "\n",
    "EY = sum(resultados_simulacion)/SIMULACIONES # E(Y) ,esperanza o valor esperado de una variable aleatoria\n",
    "ingreso_maximo = max(resultados_simulacion)\n",
    "ingreso_minimo = min(resultados_simulacion)\n",
    "\n",
    "print(\"El valor esperado o esperanza de la variable Y es E(Y) =\" ,EY)\n",
    "print(\"El valor minimo de y es \",ingreso_minimo)\n",
    "print(\"El valor maximo de y es \",ingreso_maximo)\n",
    "\n",
    "plt.hist(resultados_simulacion)\n",
    "plt.show()"
   ]
  }
 ],
 "metadata": {
  "kernelspec": {
   "display_name": "Python 3",
   "language": "python",
   "name": "python3"
  },
  "language_info": {
   "codemirror_mode": {
    "name": "ipython",
    "version": 3
   },
   "file_extension": ".py",
   "mimetype": "text/x-python",
   "name": "python",
   "nbconvert_exporter": "python",
   "pygments_lexer": "ipython3",
   "version": "3.8.8"
  }
 },
 "nbformat": 4,
 "nbformat_minor": 5
}
