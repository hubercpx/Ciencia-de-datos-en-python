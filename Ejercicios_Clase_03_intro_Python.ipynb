{
 "cells": [
  {
   "cell_type": "markdown",
   "id": "39948ea5",
   "metadata": {},
   "source": [
    "## Hola Mundo en Markdown\n",
    "**Ejercicio**: Escribir tu nombre y carnet en una nueva celda con el carnet en negrita"
   ]
  },
  {
   "cell_type": "markdown",
   "id": "ae514049",
   "metadata": {},
   "source": [
    "Huber Torres **22000782**"
   ]
  },
  {
   "cell_type": "markdown",
   "id": "aebe6ed9",
   "metadata": {},
   "source": [
    "**Ejercicio:** Escribir una celda de codigo que imprima/despliegue en pantalla tu nombre y carnet"
   ]
  },
  {
   "cell_type": "code",
   "execution_count": 2,
   "id": "ae5abe94",
   "metadata": {},
   "outputs": [
    {
     "name": "stdout",
     "output_type": "stream",
     "text": [
      "Huber Torres, 22000782\n"
     ]
    }
   ],
   "source": [
    "print(\"Huber Torres, 22000782\")"
   ]
  },
  {
   "cell_type": "code",
   "execution_count": 3,
   "id": "66ebc146",
   "metadata": {},
   "outputs": [
    {
     "name": "stdout",
     "output_type": "stream",
     "text": [
      "10\n"
     ]
    },
    {
     "data": {
      "text/plain": [
       "int"
      ]
     },
     "execution_count": 3,
     "metadata": {},
     "output_type": "execute_result"
    }
   ],
   "source": [
    "monto = 10 # monto es el identificador para el valor real 10.0\n",
    "\n",
    "print(monto)\n",
    "type(monto)"
   ]
  },
  {
   "cell_type": "code",
   "execution_count": 4,
   "id": "b0eec896",
   "metadata": {},
   "outputs": [],
   "source": [
    "tipo_cambio = 7.0"
   ]
  },
  {
   "cell_type": "code",
   "execution_count": 5,
   "id": "ef1523f1",
   "metadata": {},
   "outputs": [
    {
     "name": "stdout",
     "output_type": "stream",
     "text": [
      "70.0\n"
     ]
    }
   ],
   "source": [
    "monto_convertido = tipo_cambio*monto #monto_convertido es el identificador para el resultado de la operación de multiplicar  el cambio por el monto\n",
    "\n",
    "print(monto_convertido)"
   ]
  },
  {
   "cell_type": "code",
   "execution_count": 6,
   "id": "b64ea70f",
   "metadata": {},
   "outputs": [
    {
     "name": "stdout",
     "output_type": "stream",
     "text": [
      "70.0\n"
     ]
    }
   ],
   "source": [
    "monto_convertido = float(tipo_cambio)*10.0 #monto_convertido es el identificador para el resultado de la operación de multiplicar  el cambio por el monto\n",
    "\n",
    "print(monto_convertido)"
   ]
  },
  {
   "cell_type": "code",
   "execution_count": 7,
   "id": "dd457595",
   "metadata": {},
   "outputs": [
    {
     "name": "stdout",
     "output_type": "stream",
     "text": [
      "70.0\n"
     ]
    }
   ],
   "source": [
    "print(monto_convertido)"
   ]
  },
  {
   "cell_type": "markdown",
   "id": "d3b97876",
   "metadata": {},
   "source": [
    "**ejercicio** : que pasa si usamos Monto_Convertido en print() en lugar de monto_convertido? Agrega una celda de codigo e intentalo"
   ]
  },
  {
   "cell_type": "code",
   "execution_count": 8,
   "id": "be0bfca1",
   "metadata": {},
   "outputs": [
    {
     "name": "stdout",
     "output_type": "stream",
     "text": [
      "-1 70.0\n"
     ]
    }
   ],
   "source": [
    "Monto_Convertido=-1\n",
    "print(Monto_Convertido,monto_convertido)"
   ]
  }
 ],
 "metadata": {
  "kernelspec": {
   "display_name": "Python 3",
   "language": "python",
   "name": "python3"
  },
  "language_info": {
   "codemirror_mode": {
    "name": "ipython",
    "version": 3
   },
   "file_extension": ".py",
   "mimetype": "text/x-python",
   "name": "python",
   "nbconvert_exporter": "python",
   "pygments_lexer": "ipython3",
   "version": "3.8.8"
  }
 },
 "nbformat": 4,
 "nbformat_minor": 5
}
